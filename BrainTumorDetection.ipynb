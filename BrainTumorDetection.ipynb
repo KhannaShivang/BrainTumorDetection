{
  "nbformat": 4,
  "nbformat_minor": 0,
  "metadata": {
    "colab": {
      "provenance": [],
      "authorship_tag": "ABX9TyNIP7aBDwUvcCz4rNRLEDdK",
      "include_colab_link": true
    },
    "kernelspec": {
      "name": "python3",
      "display_name": "Python 3"
    },
    "language_info": {
      "name": "python"
    }
  },
  "cells": [
    {
      "cell_type": "markdown",
      "metadata": {
        "id": "view-in-github",
        "colab_type": "text"
      },
      "source": [
        "<a href=\"https://colab.research.google.com/github/KhannaShivang/BrainTumorDetection/blob/main/BrainTumorDetection.ipynb\" target=\"_parent\"><img src=\"https://colab.research.google.com/assets/colab-badge.svg\" alt=\"Open In Colab\"/></a>"
      ]
    },
    {
      "cell_type": "code",
      "execution_count": null,
      "metadata": {
        "colab": {
          "base_uri": "https://localhost:8080/"
        },
        "id": "nxK7Tz4g89kS",
        "outputId": "5b388453-07ec-4111-b297-68d26542b5ff",
        "collapsed": true
      },
      "outputs": [
        {
          "output_type": "stream",
          "name": "stdout",
          "text": [
            "--2024-07-03 19:00:42--  https://www.dropbox.com/s/dtw18saps0231yn/BrainTumorData.zip?dl=0\n",
            "Resolving www.dropbox.com (www.dropbox.com)... 162.125.3.18, 2620:100:6018:18::a27d:312\n",
            "Connecting to www.dropbox.com (www.dropbox.com)|162.125.3.18|:443... connected.\n",
            "HTTP request sent, awaiting response... 302 Found\n",
            "Location: /s/raw/dtw18saps0231yn/BrainTumorData.zip [following]\n",
            "--2024-07-03 19:00:43--  https://www.dropbox.com/s/raw/dtw18saps0231yn/BrainTumorData.zip\n",
            "Reusing existing connection to www.dropbox.com:443.\n",
            "HTTP request sent, awaiting response... 404 Not Found\n",
            "2024-07-03 19:00:43 ERROR 404: Not Found.\n",
            "\n"
          ]
        }
      ],
      "source": [
        "import warnings\n",
        "warnings.filterwarnings('ignore')"
      ]
    },
    {
      "cell_type": "code",
      "source": [
        "#get the data from\n",
        "!wget https://www.dropbox.com/s/dtw18saps0231yn/BrainTumorData.zip?dl=0"
      ],
      "metadata": {
        "id": "8cGYTkO7-d2w"
      },
      "execution_count": null,
      "outputs": []
    },
    {
      "cell_type": "code",
      "source": [
        "import numpy\n",
        "import matplotlib.pyplot as plt\n",
        "import os\n",
        "import math\n",
        "import shutil\n",
        "import glob\n"
      ],
      "metadata": {
        "id": "Sqxz9NEy-5kw"
      },
      "execution_count": null,
      "outputs": []
    },
    {
      "cell_type": "code",
      "source": [
        "#count the numer of images in respective classes BrainTumor-0 healthy-1\n",
        "ROOT_DIR=\n",
        "number_of_imagaes={}\n",
        "\n",
        "for dir in os.listdir(ROOT_DIR):\n",
        "  number_of_images[dir]=len(os.listdir(os.path.join(ROOT_DIR,dir)))\n",
        "\n",
        "number_of_images.items()\n"
      ],
      "metadata": {
        "id": "lPa6uz7M_k2T"
      },
      "execution_count": null,
      "outputs": []
    },
    {
      "cell_type": "markdown",
      "source": [
        "# WE WILL SPLIT THE DATA SUCH THAT\n",
        "  *70% FOR TRAIN DATA\n",
        "\n",
        "  *15% FOR VALIDATION\n",
        "\n",
        "\n",
        "  *15% FOR TESTING"
      ],
      "metadata": {
        "id": "O1wNWbV5YUG8"
      }
    },
    {
      "cell_type": "code",
      "source": [],
      "metadata": {
        "id": "HXBvyBGnYrNK"
      },
      "execution_count": null,
      "outputs": []
    },
    {
      "cell_type": "code",
      "source": [
        "def dataFolder(path,split):\n",
        "  # WE WILL CREATE A TRAINGIN FOLDER\n",
        "  if not os.path.exists(\"./\"+path):\n",
        "    os.mkdir(\"./\"+path)\n",
        "\n",
        "    for dir in os.listdir(ROOT_DIR):\n",
        "      os.mkdirs(\"./\"+path+\"/\"+dir)\n",
        "      for img in np.random.choice(a = os.listdir(os.path.join(ROOT_DIR,dir)),\n",
        "                                  size =(math.floor(split*number_of_images[dir])-5),replace=False):\n",
        "        O=os.path.join(ROOT_DIR,dir,img)\n",
        "        D=os.path.join(\"./\"+path,dir)\n",
        "        shutil.copy()<D\n",
        "        os.remove(O)\n",
        "  else:\n",
        "    print(\"the folder exists\")"
      ],
      "metadata": {
        "id": "YPScH3qrbdXj"
      },
      "execution_count": null,
      "outputs": []
    },
    {
      "cell_type": "code",
      "source": [
        "dataFolder(\"train\",0.7)"
      ],
      "metadata": {
        "id": "z-9h7pr6cgW6"
      },
      "execution_count": null,
      "outputs": []
    },
    {
      "cell_type": "code",
      "source": [
        "dataFolder(\"val\",0.15)"
      ],
      "metadata": {
        "id": "r8a5dBq3cm9u"
      },
      "execution_count": null,
      "outputs": []
    },
    {
      "cell_type": "code",
      "source": [
        "datafolder(\"test\",0.15)"
      ],
      "metadata": {
        "id": "Ca8Z6zR6cq91"
      },
      "execution_count": null,
      "outputs": []
    },
    {
      "cell_type": "markdown",
      "source": [
        "#Model Build"
      ],
      "metadata": {
        "id": "WHBOpZ0jdKdI"
      }
    },
    {
      "cell_type": "code",
      "source": [
        "from keras.layers import Conv2D, MaxPool2D, Dropout, Flatten, Dense, BatchNormalization, GlobalAvgPool2D\n",
        "from keras.models import Sequential\n",
        "from keras.preprocessing.image import ImageDataGenerator\n",
        "\n",
        "import keras"
      ],
      "metadata": {
        "id": "v0H5mk1LdXwU"
      },
      "execution_count": null,
      "outputs": []
    },
    {
      "cell_type": "code",
      "source": [
        "#CNN model\n",
        "model = Sequential()\n",
        "model.add(Conv2D(filters=16 , kernel_size=(3,3),activation='relu' , input_shape = (224,224,3)))\n",
        "\n",
        "model.add(Conv2D(filters=36 , kernel_size=(3,3),activation='relu' ))\n",
        "model.add(MaxPool2D(pool_size=(2,2)))\n",
        "\n",
        "model.add(Conv2D(filters=64 , kernel_size=(3,3),activation='relu' ))\n",
        "model.add(MaxPool2D(pool_size=(2,2)))\n",
        "\n",
        "model.add(Conv2D(filters=128 , kernel_size=(3,3),activation='relu' ))\n",
        "model.add(MaxPool2D(pool_size=(2,2)))\n",
        "model.add(Dropout(rate=0.25))\n",
        "\n",
        "model.add(Flatten())\n",
        "model.add(Dense(units=64, activation= 'relu'))\n",
        "model.add(Dropout(rate=0.25))\n",
        "model.add(Dense(units= 1,activation= 'sigmoid'))\n",
        "\n",
        "model.summary()"
      ],
      "metadata": {
        "colab": {
          "base_uri": "https://localhost:8080/"
        },
        "collapsed": true,
        "id": "cY40fuS5eUFw",
        "outputId": "33926011-2fd5-4857-ef63-f39b91a27978"
      },
      "execution_count": null,
      "outputs": [
        {
          "output_type": "stream",
          "name": "stdout",
          "text": [
            "Model: \"sequential_3\"\n",
            "_________________________________________________________________\n",
            " Layer (type)                Output Shape              Param #   \n",
            "=================================================================\n",
            " conv2d_2 (Conv2D)           (None, 222, 222, 16)      448       \n",
            "                                                                 \n",
            " conv2d_3 (Conv2D)           (None, 220, 220, 36)      5220      \n",
            "                                                                 \n",
            " max_pooling2d (MaxPooling2  (None, 110, 110, 36)      0         \n",
            " D)                                                              \n",
            "                                                                 \n",
            " conv2d_4 (Conv2D)           (None, 108, 108, 64)      20800     \n",
            "                                                                 \n",
            " max_pooling2d_1 (MaxPoolin  (None, 54, 54, 64)        0         \n",
            " g2D)                                                            \n",
            "                                                                 \n",
            " conv2d_5 (Conv2D)           (None, 52, 52, 128)       73856     \n",
            "                                                                 \n",
            " max_pooling2d_2 (MaxPoolin  (None, 26, 26, 128)       0         \n",
            " g2D)                                                            \n",
            "                                                                 \n",
            " dropout (Dropout)           (None, 26, 26, 128)       0         \n",
            "                                                                 \n",
            " flatten (Flatten)           (None, 86528)             0         \n",
            "                                                                 \n",
            " dense (Dense)               (None, 64)                5537856   \n",
            "                                                                 \n",
            " dropout_1 (Dropout)         (None, 64)                0         \n",
            "                                                                 \n",
            " dense_1 (Dense)             (None, 1)                 65        \n",
            "                                                                 \n",
            "=================================================================\n",
            "Total params: 5638245 (21.51 MB)\n",
            "Trainable params: 5638245 (21.51 MB)\n",
            "Non-trainable params: 0 (0.00 Byte)\n",
            "_________________________________________________________________\n"
          ]
        }
      ]
    },
    {
      "cell_type": "code",
      "source": [
        "model.compile(optimizer='adam', loss=keras.losses.binary_crossentropy,metrics=['accuracy'])"
      ],
      "metadata": {
        "id": "0Av_eTl3iu3j"
      },
      "execution_count": null,
      "outputs": []
    },
    {
      "cell_type": "markdown",
      "source": [
        "Preparing our data using Data Generator"
      ],
      "metadata": {
        "id": "yYIdZK7KkBwb"
      }
    },
    {
      "cell_type": "code",
      "source": [
        "def preprocessingImages1(path):\n",
        "  #input: Path\n",
        "  #output: Pre processed images\n",
        "  image_data=ImageDataGenerator(zoom_range= 0.2, shear_range= 0.2, rescale=1/255, horizontal_flips= True) #Data Augmentation\n",
        "  image=image_data.flow_from_directory(directory= path, target_size=(224,224), batch_size = 32,class_mode = 'binary')\n",
        "\n",
        "  return image"
      ],
      "metadata": {
        "id": "8FIhKlWekJfg"
      },
      "execution_count": null,
      "outputs": []
    },
    {
      "cell_type": "code",
      "source": [
        "path =\n",
        "train_data = preprocessingImages1(path)"
      ],
      "metadata": {
        "id": "RGgU5ImpmQvG"
      },
      "execution_count": null,
      "outputs": []
    },
    {
      "cell_type": "code",
      "source": [
        "def preprocessingImages2(path):\n",
        "  #input: Path\n",
        "  #output: Pre processed images\n",
        "  image_data=ImageDataGenerator(rescale=1/255)\n",
        "  image=image_data.flow_from_directory(directory= path, target_size=(224,224), batch_size = 32,class_mode = 'binary')\n",
        "\n",
        "  return image"
      ],
      "metadata": {
        "id": "Ufa6ggeimurl"
      },
      "execution_count": null,
      "outputs": []
    },
    {
      "cell_type": "code",
      "source": [
        "path=\n",
        "test_data=preprocessingImages2(path)"
      ],
      "metadata": {
        "id": "k0uCDhtxm2ZL"
      },
      "execution_count": null,
      "outputs": []
    },
    {
      "cell_type": "code",
      "source": [
        "path=\n",
        "val_data=preprocessingImages2(path)"
      ],
      "metadata": {
        "id": "LktGCQbQnIR1"
      },
      "execution_count": null,
      "outputs": []
    },
    {
      "cell_type": "code",
      "source": [
        "# Early stopping and model check point\n",
        "\n",
        "from keras.callbacks import ModelCheckpoint, EarlyStopping\n",
        "\n",
        "# early stopping\n",
        "\n",
        "es = EarlyStopping(monitor=\"val_accuracy\", min_delta= 0.01, patience= 5, verbose=1, mode = 'auto')\n",
        "\n",
        "# Model Check Point\n",
        "mc = ModelCheckpoint(monitor=\"val_accuracy\", filepath=\"./bestmodel,h5\", verbos= 1, save_best_only=True , mode = 'auto')\n",
        "\n",
        "cb = [es,mc]"
      ],
      "metadata": {
        "id": "SsY27CW1nVMv"
      },
      "execution_count": null,
      "outputs": []
    },
    {
      "cell_type": "markdown",
      "source": [
        "#Model Training"
      ],
      "metadata": {
        "id": "r2XFgKcXpQL1"
      }
    },
    {
      "cell_type": "code",
      "source": [
        "hs = model.fit_generator(generator=train_data, steps_per_epoch= 8, epochs= 30, verbose= 1, validation_data= val_data, validation_steps= 16, callbacks=cb)"
      ],
      "metadata": {
        "id": "Ruz6W1YIpVGr"
      },
      "execution_count": null,
      "outputs": []
    },
    {
      "cell_type": "code",
      "source": [
        "# Model Graphical Interpretation\n",
        "\n",
        "h = hs.history()\n",
        "h.keys()"
      ],
      "metadata": {
        "id": "PPgGrkClrbwZ"
      },
      "execution_count": null,
      "outputs": []
    },
    {
      "cell_type": "code",
      "source": [
        "plt.plot(h['accuracy'])\n",
        "plt.plot(h['val_accuracy'] ,c='red')\n",
        "\n",
        "plt.title(\"acc vs val_acc\")\n",
        "plt.show()"
      ],
      "metadata": {
        "id": "LswKJz4erwhB"
      },
      "execution_count": null,
      "outputs": []
    },
    {
      "cell_type": "code",
      "source": [
        "plt.plot(h['loss'])\n",
        "plt.plot(h['val_loss'] ,c='red')\n",
        "\n",
        "plt.title(\"acc vs val_loss\")\n",
        "plt.show()"
      ],
      "metadata": {
        "id": "8IRO6iXhsmpy"
      },
      "execution_count": null,
      "outputs": []
    },
    {
      "cell_type": "code",
      "source": [
        "# Model Accuracy\n",
        "\n",
        "from keras.models import load_model\n",
        "\n",
        "model = load_model(\"\")"
      ],
      "metadata": {
        "id": "OADf938ms38W"
      },
      "execution_count": null,
      "outputs": []
    },
    {
      "cell_type": "markdown",
      "source": [
        "#Model Accuracy"
      ],
      "metadata": {
        "id": "bjGSg8gvtPRe"
      }
    },
    {
      "cell_type": "code",
      "source": [
        "acc = model.evaluate_generator(test_data)[1]\n",
        "\n",
        "print(f\"the accuracy of out model is {acc*100}%\")"
      ],
      "metadata": {
        "id": "I87VTkW6tT6S"
      },
      "execution_count": null,
      "outputs": []
    },
    {
      "cell_type": "code",
      "source": [
        "from keras.preprocessing.image import load_img,img_to_array"
      ],
      "metadata": {
        "id": "DdN7gIFTvhkX"
      },
      "execution_count": null,
      "outputs": []
    },
    {
      "cell_type": "code",
      "source": [
        "path=\n",
        "\n",
        "img = load_img(path, target_size= (224,224))\n",
        "input_arr = img_to_array(img)/255\n",
        "\n",
        "plt.imshow(imput_arr)\n",
        "plt.show()\n",
        "\n",
        "input_arr.shape\n",
        "\n",
        "input_arr = np.expand_dims(input_arr, axis = 0)\n",
        "\n",
        "pred = model.predict_classes(input_arr)[0][0]\n",
        "pred\n",
        "\n",
        "if(pred==0):\n",
        "  print(\"The MRI is having a Tumor\")\n",
        "else:\n",
        "  print(\"The MRI is Not having a Tumor\")"
      ],
      "metadata": {
        "id": "0KtoVjmwvFeX"
      },
      "execution_count": null,
      "outputs": []
    }
  ]
}